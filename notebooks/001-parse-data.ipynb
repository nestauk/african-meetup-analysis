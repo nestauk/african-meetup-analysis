{
 "cells": [
  {
   "cell_type": "code",
   "execution_count": 1,
   "metadata": {},
   "outputs": [],
   "source": [
    "%load_ext autoreload"
   ]
  },
  {
   "cell_type": "code",
   "execution_count": 19,
   "metadata": {},
   "outputs": [],
   "source": [
    "%autoreload\n",
    "import pandas as pd\n",
    "import pickle\n",
    "import matplotlib.pyplot as plt\n",
    "%matplotlib inline"
   ]
  },
  {
   "cell_type": "markdown",
   "metadata": {},
   "source": [
    "# Read groups"
   ]
  },
  {
   "cell_type": "code",
   "execution_count": 4,
   "metadata": {},
   "outputs": [
    {
     "name": "stdout",
     "output_type": "stream",
     "text": [
      "Unique Meetup groups: 68969\n"
     ]
    }
   ],
   "source": [
    "with open('../data/raw/data.pickle', 'rb') as h:\n",
    "    data = pickle.load(h)\n",
    "\n",
    "groups = pd.concat(data)\n",
    "groups.reset_index(inplace=True)\n",
    "groups.rename(index=str, inplace=True, columns={'index':'group_id'})\n",
    "groups.drop_duplicates('group_id', inplace=True)\n",
    "\n",
    "def fix_topic_names(t):\n",
    "    if t == 'career/business':\n",
    "        return 'Career & Business'\n",
    "    elif t == 'tech':\n",
    "        return 'Tech'\n",
    "    elif t == 'community/environment':\n",
    "        return 'Community & Environment'\n",
    "    else:\n",
    "        return t\n",
    "    \n",
    "groups['category_name'] = groups.category_name.apply(fix_topic_names)\n",
    "print('Unique Meetup groups: {}'.format(groups.shape[0]))"
   ]
  },
  {
   "cell_type": "code",
   "execution_count": 5,
   "metadata": {},
   "outputs": [
    {
     "data": {
      "text/plain": [
       "Index(['group_id', 'category', 'category_id', 'category_name',\n",
       "       'category_shortname', 'city', 'country', 'country_code', 'country_name',\n",
       "       'created', 'created_at', 'db', 'description', 'group_name', 'id',\n",
       "       'lang', 'lat', 'lon', 'members', 'name', 'timestamp', 'topics',\n",
       "       'urlkey', 'urlname', 'year'],\n",
       "      dtype='object')"
      ]
     },
     "execution_count": 5,
     "metadata": {},
     "output_type": "execute_result"
    }
   ],
   "source": [
    "groups.columns"
   ]
  },
  {
   "cell_type": "code",
   "execution_count": 6,
   "metadata": {},
   "outputs": [],
   "source": [
    "# groups.to_csv('../data/raw/groups.csv')"
   ]
  },
  {
   "cell_type": "markdown",
   "metadata": {},
   "source": [
    "# Read members"
   ]
  },
  {
   "cell_type": "code",
   "execution_count": 7,
   "metadata": {},
   "outputs": [],
   "source": [
    "with open('../data/raw/meetup_users.pickle', 'rb') as h:\n",
    "    members = pickle.load(h)\n",
    "    \n",
    "members = pd.concat(members)"
   ]
  },
  {
   "cell_type": "code",
   "execution_count": 13,
   "metadata": {},
   "outputs": [],
   "source": [
    "members.drop_duplicates(subset=['member_id', 'group_id'], inplace=True)"
   ]
  },
  {
   "cell_type": "code",
   "execution_count": 14,
   "metadata": {},
   "outputs": [],
   "source": [
    "# Merge groups with members \n",
    "groups_members = groups.merge(members, left_on='group_id', right_on='group_id')"
   ]
  },
  {
   "cell_type": "code",
   "execution_count": 15,
   "metadata": {},
   "outputs": [
    {
     "data": {
      "text/plain": [
       "(1214412, 26)"
      ]
     },
     "execution_count": 15,
     "metadata": {},
     "output_type": "execute_result"
    }
   ],
   "source": [
    "groups_members.shape"
   ]
  },
  {
   "cell_type": "code",
   "execution_count": 16,
   "metadata": {},
   "outputs": [],
   "source": [
    "groups_members.to_csv('../data/raw/groups_members.csv')"
   ]
  }
 ],
 "metadata": {
  "kernelspec": {
   "display_name": "Python [conda env:data_getterpy36]",
   "language": "python",
   "name": "conda-env-data_getterpy36-py"
  },
  "language_info": {
   "codemirror_mode": {
    "name": "ipython",
    "version": 3
   },
   "file_extension": ".py",
   "mimetype": "text/x-python",
   "name": "python",
   "nbconvert_exporter": "python",
   "pygments_lexer": "ipython3",
   "version": "3.6.7"
  }
 },
 "nbformat": 4,
 "nbformat_minor": 2
}
